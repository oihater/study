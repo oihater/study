{
 "cells": [
  {
   "cell_type": "code",
   "execution_count": null,
   "metadata": {},
   "outputs": [],
   "source": [
    "string = input()\n",
    "char = []\n",
    "for i in string:\n",
    "    char.append(i)"
   ]
  },
  {
   "cell_type": "code",
   "execution_count": null,
   "metadata": {},
   "outputs": [],
   "source": [
    "for j in range(len(char)):\n",
    "    if char[j].islower():\n",
    "        if char[j]+13 > 122:\n",
    "            char[j] = char[j]+13 -26\n",
    "        else:\n",
    "            char[j] = char[j]+13\n",
    "    elif char[j].isupper():\n",
    "        if char[j]+13 > 90:\n",
    "            char[j] = char[j] + 13 - 26;\n",
    "        else :\n",
    "            char[j] = char[j] + 13"
   ]
  },
  {
   "cell_type": "code",
   "execution_count": null,
   "metadata": {},
   "outputs": [],
   "source": []
  }
 ],
 "metadata": {
  "kernelspec": {
   "display_name": "Python 3",
   "language": "python",
   "name": "python3"
  },
  "language_info": {
   "codemirror_mode": {
    "name": "ipython",
    "version": 3
   },
   "file_extension": ".py",
   "mimetype": "text/x-python",
   "name": "python",
   "nbconvert_exporter": "python",
   "pygments_lexer": "ipython3",
   "version": "3.7.4"
  }
 },
 "nbformat": 4,
 "nbformat_minor": 2
}
