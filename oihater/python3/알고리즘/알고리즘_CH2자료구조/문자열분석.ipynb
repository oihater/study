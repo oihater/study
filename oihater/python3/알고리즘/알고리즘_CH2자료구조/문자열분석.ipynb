{
 "cells": [
  {
   "cell_type": "code",
   "execution_count": 5,
   "metadata": {},
   "outputs": [
    {
     "name": "stdout",
     "output_type": "stream",
     "text": [
      "This is String\n",
      "10   2   0   2\n",
      "SPACE     1     SPACE\n",
      "0   10   1   10\n",
      " S a M p L e I n P u T\n",
      "5   6   0   11\n",
      "0L1A2S3T4L5I6N7E8\n",
      "0   8   9   0\n",
      "\n"
     ]
    }
   ],
   "source": [
    "while True:\n",
    "    line = input()\n",
    "    up, lo, nu, sp = 0,0,0,0\n",
    "    if not line:\n",
    "            break\n",
    "    for i in line:\n",
    "        if i.isupper():\n",
    "            up += 1\n",
    "        elif i.islower():\n",
    "            lo += 1\n",
    "        elif i.isdigit():\n",
    "            nu += 1    \n",
    "        elif i.isspace():\n",
    "            sp += 1\n",
    "    print(lo, ' ', up, ' ', nu, ' ', sp, ' ')"
   ]
  },
  {
   "cell_type": "code",
   "execution_count": 7,
   "metadata": {},
   "outputs": [],
   "source": [
    "#백준\n",
    "\n",
    "import sys \n",
    "while True: \n",
    "    line = sys.stdin.readline().rstrip('\\n') \n",
    "    up, lo, sp, nu = 0, 0, 0, 0 \n",
    "    if not line: \n",
    "        break \n",
    "    for l in line: \n",
    "        if l.isupper(): \n",
    "            up += 1 \n",
    "        elif l.islower(): \n",
    "            lo += 1 \n",
    "        elif l.isdigit(): \n",
    "            nu += 1 \n",
    "        elif l.isspace(): \n",
    "            sp += 1 \n",
    "            \n",
    "    sys.stdout.write(\"{} {} {} {}\\n\".format(lo, up, nu, sp))\n"
   ]
  },
  {
   "cell_type": "code",
   "execution_count": null,
   "metadata": {},
   "outputs": [],
   "source": []
  }
 ],
 "metadata": {
  "kernelspec": {
   "display_name": "Python 3",
   "language": "python",
   "name": "python3"
  },
  "language_info": {
   "codemirror_mode": {
    "name": "ipython",
    "version": 3
   },
   "file_extension": ".py",
   "mimetype": "text/x-python",
   "name": "python",
   "nbconvert_exporter": "python",
   "pygments_lexer": "ipython3",
   "version": "3.7.4"
  }
 },
 "nbformat": 4,
 "nbformat_minor": 2
}
