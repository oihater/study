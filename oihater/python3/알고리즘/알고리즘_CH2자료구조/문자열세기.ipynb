{
 "cells": [
  {
   "cell_type": "code",
   "execution_count": 15,
   "metadata": {},
   "outputs": [
    {
     "name": "stdout",
     "output_type": "stream",
     "text": [
      "baekjoon\n",
      "1 1 0 0 1 0 0 0 0 1 1 0 0 1 2 0 0 0 0 0 0 0 0 0 0 0 "
     ]
    }
   ],
   "source": [
    "import numpy as np\n",
    "string = str(input())\n",
    "char = []\n",
    "cnt = np.zeros(26, dtype=int)\n",
    "for i in range(len(string)):\n",
    "    char.append(string[i])\n",
    "for j in range(len(char)):\n",
    "    for k in range(26):\n",
    "        if ord(char[j]) == k+97:\n",
    "            cnt[k] += 1\n",
    "for i in range(26):\n",
    "    print(cnt[i], end=' ')\n"
   ]
  },
  {
   "cell_type": "code",
   "execution_count": null,
   "metadata": {},
   "outputs": [],
   "source": []
  }
 ],
 "metadata": {
  "kernelspec": {
   "display_name": "Python 3",
   "language": "python",
   "name": "python3"
  },
  "language_info": {
   "codemirror_mode": {
    "name": "ipython",
    "version": 3
   },
   "file_extension": ".py",
   "mimetype": "text/x-python",
   "name": "python",
   "nbconvert_exporter": "python",
   "pygments_lexer": "ipython3",
   "version": "3.7.4"
  }
 },
 "nbformat": 4,
 "nbformat_minor": 2
}
