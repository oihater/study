{
 "cells": [
  {
   "cell_type": "code",
   "execution_count": 20,
   "metadata": {},
   "outputs": [],
   "source": [
    "#stack 구현\n",
    "class stack:\n",
    "    def __init__(self):\n",
    "        self.items = []\n",
    "    def push(self, item):\n",
    "        self.items.append(item)\n",
    "    def pop(self):\n",
    "        self.items.pop()\n",
    "    def top(self):\n",
    "        item_length=len(self.items)\n",
    "        return self.items[-1]\n",
    "    def empty(self):\n",
    "        return not self.items\n",
    "st = stack()"
   ]
  },
  {
   "cell_type": "code",
   "execution_count": 62,
   "metadata": {},
   "outputs": [
    {
     "name": "stdout",
     "output_type": "stream",
     "text": [
      "()\n"
     ]
    }
   ],
   "source": [
    "bracket = input()"
   ]
  },
  {
   "cell_type": "code",
   "execution_count": 63,
   "metadata": {},
   "outputs": [],
   "source": [
    "pole=0\n",
    "cnt=0\n",
    "for i in range(len(bracket)):\n",
    "    st.push(bracket[i])\n",
    "    if st.top() == '(':\n",
    "        pole += 1\n",
    "    elif st.top() == ')' and bracket[i-1] == '(':\n",
    "        pole -= 1\n",
    "        cnt += pole\n",
    "    elif st.top() == ')':\n",
    "        pole -= 1\n",
    "        cnt += 1"
   ]
  },
  {
   "cell_type": "code",
   "execution_count": 64,
   "metadata": {},
   "outputs": [
    {
     "data": {
      "text/plain": [
       "0"
      ]
     },
     "execution_count": 64,
     "metadata": {},
     "output_type": "execute_result"
    }
   ],
   "source": [
    "cnt"
   ]
  },
  {
   "cell_type": "code",
   "execution_count": 48,
   "metadata": {},
   "outputs": [],
   "source": [
    "'''\n",
    "for j in range(len(bracket)):    \n",
    "    if st.top() == ')':\n",
    "        pole += 1\n",
    "        st.pop()\n",
    "    elif st.top() == '(':\n",
    "        pole -= 1\n",
    "        st.pop()\n",
    "        if st.top() == ')':\n",
    "            cnt += pole\n",
    "        elif st.top() == '(':\n",
    "            cnt += 1\n",
    "       \n",
    "'''"
   ]
  }
 ],
 "metadata": {
  "kernelspec": {
   "display_name": "Python 3",
   "language": "python",
   "name": "python3"
  },
  "language_info": {
   "codemirror_mode": {
    "name": "ipython",
    "version": 3
   },
   "file_extension": ".py",
   "mimetype": "text/x-python",
   "name": "python",
   "nbconvert_exporter": "python",
   "pygments_lexer": "ipython3",
   "version": "3.7.4"
  }
 },
 "nbformat": 4,
 "nbformat_minor": 2
}
