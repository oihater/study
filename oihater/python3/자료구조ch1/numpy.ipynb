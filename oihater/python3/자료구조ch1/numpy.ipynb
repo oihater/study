{
 "cells": [
  {
   "cell_type": "code",
   "execution_count": null,
   "metadata": {},
   "outputs": [],
   "source": [
    "#numpy 구현\n",
    "import numpy as np"
   ]
  },
  {
   "cell_type": "code",
   "execution_count": null,
   "metadata": {},
   "outputs": [],
   "source": [
    "def testing_numpy():\n",
    "    ax = np.array([1,2,3])\n",
    "    ay = np.array([3,4,5])\n",
    "    print(ax)\n",
    "    print(ay)\n",
    "    print(2*ax)\n",
    "    print(ax+10)\n",
    "    print(np.sqrt(ax))\n",
    "    print(np.cos(ax))\n",
    "    print(ax-ay)\n",
    "    print(np.where(ax<2, ax, 10)) #원소 값이 2보다 작으면 해당 원소값을 출력 크거나 같으면 10출력\n",
    "    \n",
    "    m=np.matrix([ax,ay,ax])\n",
    "    print(m)\n",
    "    print(m.T)\n",
    "    \n",
    "    "
   ]
  }
 ],
 "metadata": {
  "kernelspec": {
   "display_name": "Python 3",
   "language": "python",
   "name": "python3"
  },
  "language_info": {
   "codemirror_mode": {
    "name": "ipython",
    "version": 3
   },
   "file_extension": ".py",
   "mimetype": "text/x-python",
   "name": "python",
   "nbconvert_exporter": "python",
   "pygments_lexer": "ipython3",
   "version": "3.7.4"
  }
 },
 "nbformat": 4,
 "nbformat_minor": 2
}
